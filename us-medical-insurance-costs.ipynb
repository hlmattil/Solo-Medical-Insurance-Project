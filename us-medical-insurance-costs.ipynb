{
 "cells": [
  {
   "cell_type": "markdown",
   "metadata": {},
   "source": [
    "# **US Medical Insurance Costs**\n",
    "This project finds trends in US patient medical data. \n"
   ]
  },
  {
   "cell_type": "code",
   "execution_count": 84,
   "metadata": {},
   "outputs": [],
   "source": [
    "#Import the data, organize into a list\n",
    "import csv\n",
    "with open('Insurance.csv', newline='') as insurance_csv:\n",
    "    fieldnames = ['age','sex','bmi','children','smoker','region','charges']\n",
    "    medical_data_csv = csv.DictReader(insurance_csv)\n",
    "    medical_data_list = list()\n",
    "    for row in medical_data_csv:\n",
    "        medical_data_dict = dict()\n",
    "        for name in fieldnames:\n",
    "            medical_data_dict[name]= row[name]\n",
    "        medical_data_list.append(medical_data_dict)\n",
    "\n",
    "#for person in medical_data_list:\n",
    "    #print(person)"
   ]
  },
  {
   "cell_type": "code",
   "execution_count": 54,
   "metadata": {},
   "outputs": [],
   "source": [
    "def avg(summed_numbers, divisor):\n",
    "    return summed_numbers / divisor\n",
    "\n",
    "def currency(float_number):\n",
    "    #1,342.1100\n",
    "    rounded = round (float_number,2)\n",
    "    #1342.11\n",
    "    string = str(rounded)\n",
    "    #'1342.11'\n",
    "    #'1,234,767.00'\n",
    "    length = len(string)\n",
    "    #7\n",
    "    #I need commas at [1]\n",
    "    new_string = ''\n",
    "    if length >= 7 and length < 10:\n",
    "        new_string = \"$\" + string[:(length - 6)]  + \",\" + string[(length-6):]\n",
    "    elif length >= 10:\n",
    "        new_string = \"$\" + string[:(length - 9)] + \",\" + string[(length - 9):(length - 6)] + \",\" + string[(length - 6):]\n",
    "    return new_string\n",
    "\n"
   ]
  },
  {
   "cell_type": "code",
   "execution_count": 10,
   "metadata": {},
   "outputs": [
    {
     "name": "stdout",
     "output_type": "stream",
     "text": [
      "The average age of a person in this data set is 39.21 years.\n"
     ]
    }
   ],
   "source": [
    "#Find the average age of the patients in data set\n",
    "def average_age(data_list):\n",
    "    age = 0\n",
    "    count = len(data_list)\n",
    "    for person in data_list:\n",
    "        age += int(person['age'])    \n",
    "    return print(\"The average age of a person in this data set is \" +  str(round(avg(age, count), 2)) + \" years.\")\n",
    "    \n",
    "\n",
    "average_age(medical_data_list)"
   ]
  },
  {
   "cell_type": "code",
   "execution_count": 5,
   "metadata": {},
   "outputs": [
    {
     "name": "stdout",
     "output_type": "stream",
     "text": [
      "The southeast is the most represented region on this list with 364 individuals living in that area.\n"
     ]
    }
   ],
   "source": [
    "#Find where most individuals are from\n",
    "def count_location(data_list):\n",
    "    locations = {}\n",
    "    for row in data_list:\n",
    "        if row['region'] not in locations:\n",
    "            locations[row['region']] = 1\n",
    "        else:\n",
    "            locations[row['region']] +=1\n",
    "    top_region = ''\n",
    "    top_amount = 0\n",
    "    for location in locations:\n",
    "        if locations[location] > top_amount:\n",
    "            top_amount = locations[location]\n",
    "            top_region = location\n",
    "        \n",
    "    return print(f\"The {top_region} is the most represented region on this list with {top_amount} individuals living in that area.\")\n",
    "        \n",
    "count_location(medical_data_list)"
   ]
  },
  {
   "cell_type": "code",
   "execution_count": 51,
   "metadata": {},
   "outputs": [
    {
     "name": "stdout",
     "output_type": "stream",
     "text": [
      "The average smoker pays $23,615.96 more for insurance than the average non-smoker.\n"
     ]
    }
   ],
   "source": [
    "#Find how much more the average smoker pays in insurance than the average non-smoker\n",
    "\n",
    "def extra_costs_smokers(data_list):\n",
    "    smoker_count = 0\n",
    "    smoker_cost = 0\n",
    "    non_smoker_count = 0\n",
    "    non_smoker_cost = 0\n",
    "    for row in data_list:\n",
    "        if row['smoker'] == 'yes':\n",
    "            smoker_count+= 1\n",
    "            smoker_cost += float(row['charges'])\n",
    "        elif row['smoker'] == 'no':\n",
    "            non_smoker_count += 1\n",
    "            non_smoker_cost += float(row['charges'])\n",
    "    average_smoker_cost = avg(smoker_cost, smoker_count)\n",
    "    average_non_smoker_cost = avg(non_smoker_cost, non_smoker_count)\n",
    "    \n",
    "    return print(\"The average smoker pays \" + str(currency(average_smoker_cost - average_non_smoker_cost)) + \" more for insurance than the average non-smoker.\")\n",
    "extra_costs_smokers(medical_data_list)"
   ]
  },
  {
   "cell_type": "code",
   "execution_count": 53,
   "metadata": {},
   "outputs": [
    {
     "name": "stdout",
     "output_type": "stream",
     "text": [
      "39.78 is the average age of of a person with at least 1 child in this data set.\n"
     ]
    }
   ],
   "source": [
    "#Find average age for someone with at least one child in the data set\n",
    "\n",
    "def average_age_with_child (data_set):\n",
    "    age = 0\n",
    "    count = 0\n",
    "    for person in data_set:\n",
    "        if person['children'] != '0':\n",
    "            age += int(person['age'])\n",
    "            count += 1\n",
    "    return print (str(round(avg(age,count),2)) + \" is the average age of of a person with at least 1 child in this data set.\")\n",
    "\n",
    "average_age_with_child(medical_data_list)"
   ]
  },
  {
   "cell_type": "code",
   "execution_count": 58,
   "metadata": {},
   "outputs": [
    {
     "name": "stdout",
     "output_type": "stream",
     "text": [
      "58% of men and 56% of women have children in this data set. \n",
      "\n",
      " Men with children have an average of 1.93 children and women with children have an average of 1.91 children.\n"
     ]
    }
   ],
   "source": [
    "#Find average number of children men have vs. average number of children that women have\n",
    "\n",
    "def men_vs_women_children (data_set):\n",
    "    num_men = 0\n",
    "    num_men_children = 0\n",
    "    men_child_count = 0\n",
    "    \n",
    "    num_women = 0\n",
    "    num_women_children = 0\n",
    "    women_child_count = 0\n",
    "    \n",
    "    for person in data_set:\n",
    "        if person['sex'] == 'male':\n",
    "            num_men += 1\n",
    "            if person['children'] != '0':\n",
    "                num_men_children +=1\n",
    "                men_child_count += int(person['children'])\n",
    "        elif person['sex'] == 'female':\n",
    "            num_women +=1\n",
    "            if person['children'] != '0':\n",
    "                num_women_children += 1\n",
    "                women_child_count += int(person['children'])\n",
    "                \n",
    "    avg_men_children = \"{0:.0f}%\".format(avg(num_men_children, num_men) * 100)\n",
    "    avg_women_children = \"{0:.0f}%\".format(avg(num_women_children, num_women) * 100)\n",
    "    avg_num_children_men = round(avg(men_child_count, num_men_children),2)\n",
    "    avg_num_children_women = round(avg(women_child_count, num_women_children),2)\n",
    "    \n",
    "    return print(f\"{avg_men_children} of men and {avg_women_children} of women have children in this data set.\", '\\n\\n',  f\"Men with children have an average of {avg_num_children_men} children and women with children have an average of {avg_num_children_women} children.\" )            \n",
    "            \n",
    "men_vs_women_children(medical_data_list) \n",
    "            "
   ]
  },
  {
   "cell_type": "code",
   "execution_count": 60,
   "metadata": {},
   "outputs": [
    {
     "name": "stdout",
     "output_type": "stream",
     "text": [
      "Women pay on average $12,569.58 and men pay on average $13,956.75 for health insurance. \n",
      "\n",
      " Men pay on average $1,387.17 more than women for health insurance.\n"
     ]
    }
   ],
   "source": [
    "#Answer if women or men pay more on average for health insurance\n",
    "def avg_cost_comparison(data_set):\n",
    "    costs_women = list()\n",
    "    costs_men = list()\n",
    "    for person in data_set:\n",
    "        if person['sex'] =='female':\n",
    "            costs_women.append(float(person['charges']))\n",
    "        else:\n",
    "            costs_men.append(float(person['charges']))\n",
    "    avg_costs_women = round(avg(sum(costs_women),len(costs_women)),2)\n",
    "    avg_costs_men = round(avg(sum(costs_men),len(costs_men)),2)\n",
    "    return print(f\"Women pay on average {currency(avg_costs_women)} and men pay on average {currency(avg_costs_men)} for health insurance. \\n\\n Men pay on average {currency(avg_costs_men-avg_costs_women)} more than women for health insurance.\")\n",
    "\n",
    "avg_cost_comparison(medical_data_list) \n"
   ]
  },
  {
   "cell_type": "code",
   "execution_count": 80,
   "metadata": {},
   "outputs": [
    {
     "name": "stdout",
     "output_type": "stream",
     "text": [
      "The estimated line of best fit is y = 0.05x + 28.2\n"
     ]
    }
   ],
   "source": [
    "#Find a line of best fit for predicting a woman's BMI based on her age\n",
    "\n",
    "#Define the equation of the line\n",
    "def get_y(m, x, b):\n",
    "    y = m * x + b\n",
    "    return y\n",
    "\n",
    "#Add the data points into a list of tupules\n",
    "\n",
    "women_ages_bmi = []\n",
    "for person in medical_data_list:\n",
    "    if person['sex'] == 'female':\n",
    "        women_ages_bmi.append( ( int(person['age']), float(person['bmi']) ) )\n",
    "\n",
    "        \n",
    "#Calculate total error for a point on the line\n",
    "\n",
    "def calc_error(m, b, point):\n",
    "    x_point = point[0]\n",
    "    y_point = point[1]\n",
    "    return ( abs( get_y(m, x_point, b) - y_point )  )\n",
    "\n",
    "#Create a function that sums the error of multiple points to calculate total error\n",
    "\n",
    "def total_calc_error (m, b, datapoints):\n",
    "    total_error = 0\n",
    "    for point in datapoints:\n",
    "        total_error += calc_error(m, b, point)\n",
    "    return (total_error)\n",
    "\n",
    "#Create a list of potential lines\n",
    "\n",
    "m_list = [m * .01 for m in range(0, 400)]\n",
    "b_list =  [ b * .1 for b in range (0, 400)]\n",
    "\n",
    "#Test all possible line combinations and compare which has smallest error\n",
    "\n",
    "least_error = float(\"inf\")\n",
    "best_m = 0\n",
    "best_b = 0\n",
    "\n",
    "for m in m_list:\n",
    "    for b in b_list:\n",
    "        tot_error = total_calc_error(m, b, women_ages_bmi)\n",
    "        if tot_error < least_error:\n",
    "            least_error = tot_error\n",
    "            best_m = m\n",
    "            best_b = b\n",
    "            \n",
    "print(f\"The estimated line of best fit is y = {round(best_m,2)}x + {round(best_b,2)}\")\n",
    "\n"
   ]
  },
  {
   "cell_type": "code",
   "execution_count": 81,
   "metadata": {},
   "outputs": [
    {
     "name": "stdout",
     "output_type": "stream",
     "text": [
      "The actual line of best fit is y=0.04x+28.73\n"
     ]
    },
    {
     "data": {
      "image/png": "[encoded data removed]",
      "text/plain": [
       "<Figure size 432x288 with 1 Axes>"
      ]
     },
     "metadata": {
      "needs_background": "light"
     },
     "output_type": "display_data"
    }
   ],
   "source": [
    "#Plot the poins and line of best fit \n",
    "import matplotlib.pyplot as plt\n",
    "import numpy as np\n",
    "\n",
    "x = []\n",
    "y = []\n",
    "\n",
    "for woman in women_ages_bmi:\n",
    "    x.append (woman[0])\n",
    "    y.append (woman[1])\n",
    "\n",
    "new_x = np.array(x)\n",
    "new_y = np.array(y)\n",
    "\n",
    "a, b = np.polyfit(new_x, new_y, 1)\n",
    "plt.scatter(new_x, new_y, color='purple')\n",
    "plt.plot(new_x, a*new_x+b, color='steelblue', linestyle='--', linewidth=2)\n",
    "\n",
    "print(f\"The actual line of best fit is y={round(a,2)}x+{round(b,2)}\")"
   ]
  },
  {
   "cell_type": "code",
   "execution_count": null,
   "metadata": {},
   "outputs": [],
   "source": [
    "#Rank geographic regions by average BMI\n",
    "\n",
    "def bmi_average(data_set):\n",
    "    regions = {}\n",
    "    \n",
    "    for person in data_set:\n",
    "        if person['region'] not in regions:\n",
    "            regions[person['region']] = []\n",
    "            regions[person['region']].append(float(person['bmi']))\n",
    "        else:\n",
    "            regions[person['region']].append(float(person['bmi']))\n",
    "            \n",
    "    regions_average = {}\n",
    "    \n",
    "    for region in regions:\n",
    "        regions_average[region] = avg(sum(regions[region]), len(regions[region]))\n",
    "    \n",
    "    return dict(sorted(regions_average.items(), key=lambda item: item[1]))\n",
    "    \n",
    "bmi_average(medical_data_list)\n",
    "\n",
    "\n"
   ]
  },
  {
   "cell_type": "code",
   "execution_count": null,
   "metadata": {},
   "outputs": [],
   "source": []
  }
 ],
 "metadata": {
  "kernelspec": {
   "display_name": "Python 3 (ipykernel)",
   "language": "python",
   "name": "python3"
  },
  "language_info": {
   "codemirror_mode": {
    "name": "ipython",
    "version": 3
   },
   "file_extension": ".py",
   "mimetype": "text/x-python",
   "name": "python",
   "nbconvert_exporter": "python",
   "pygments_lexer": "ipython3",
   "version": "3.9.5"
  }
 },
 "nbformat": 4,
 "nbformat_minor": 4
}
